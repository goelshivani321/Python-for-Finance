{
 "cells": [
  {
   "cell_type": "code",
   "execution_count": 200,
   "metadata": {},
   "outputs": [],
   "source": [
    "import matplotlib.pyplot as plt\n",
    "import pandas as pd\n",
    "import requests\n",
    "import json\n",
    "import datetime\n",
    "from pytz import timezone"
   ]
  },
  {
   "cell_type": "code",
   "execution_count": 201,
   "metadata": {},
   "outputs": [],
   "source": [
    "API_URL = \"https://www.alphavantage.co/query\""
   ]
  },
  {
   "cell_type": "code",
   "execution_count": 202,
   "metadata": {},
   "outputs": [],
   "source": [
    "with open('../api.txt','r') as file:\n",
    "    apikey = file.read().replace('\\n','')"
   ]
  },
  {
   "cell_type": "markdown",
   "metadata": {},
   "source": [
    "Formatting current time"
   ]
  },
  {
   "cell_type": "code",
   "execution_count": 203,
   "metadata": {},
   "outputs": [],
   "source": [
    "fmt = \"%a %b %d %H:%M:%S %Z %Y\"\n",
    "now_time = datetime.datetime.now(timezone('US/Pacific'))\n",
    "time = now_time.strftime(fmt)"
   ]
  },
  {
   "cell_type": "markdown",
   "metadata": {},
   "source": [
    "### Following are the functions used"
   ]
  },
  {
   "cell_type": "code",
   "execution_count": 204,
   "metadata": {},
   "outputs": [],
   "source": [
    "def increase_or_decrease(x):\n",
    "    if  (x>0):\n",
    "        return '+'\n",
    "    else :\n",
    "        return '-'"
   ]
  },
  {
   "cell_type": "code",
   "execution_count": 205,
   "metadata": {},
   "outputs": [],
   "source": [
    "def get_stock_data(symbol):\n",
    "    data_global_quote = {\n",
    "        \"function\" : \"GLOBAL_QUOTE\",\n",
    "        \"symbol\" : symbol,\n",
    "        \"apikey\" : apikey\n",
    "    }\n",
    "\n",
    "    data_symbol_search = {\n",
    "        \"function\" : \"SYMBOL_SEARCH\",\n",
    "        \"keywords\" : symbol,\n",
    "        \"apikey\" : apikey\n",
    "    }\n",
    "    response = requests.get(API_URL, params=data_global_quote)\n",
    "    response_symbol_search = requests.get(API_URL, params=data_symbol_search)\n",
    "    response_dict = response.json(),\n",
    "    response_symbol_search_dict = response_symbol_search.json()\n",
    "    \n",
    "   \n",
    "    if(response.status_code == 200 and response_symbol_search.status_code == 200):\n",
    "        \n",
    "        found, full_name = get_full_name(symbol,response_symbol_search_dict)\n",
    "        if(found == False):\n",
    "            stock_response = \"Symbol Not Found\"\n",
    "            return stock_response\n",
    "            \n",
    "        #Symbol found\n",
    "        stock_response = {\n",
    "            \"response_dict\" : response_dict,\n",
    "            \"response_symbol_search_dict\" : response_symbol_search_dict,\n",
    "            \"full_name\" : full_name\n",
    "        }\n",
    "    else:\n",
    "        stock_response = \"Connectivity Error Encountered!\"\n",
    "    \n",
    "    return stock_response"
   ]
  },
  {
   "cell_type": "code",
   "execution_count": 206,
   "metadata": {},
   "outputs": [],
   "source": [
    "def get_full_name(symbol, response_symbol_search_dict):\n",
    "    found = False\n",
    "    full_name = ''\n",
    "    for x in response_symbol_search_dict['bestMatches']:\n",
    "        if(symbol == x['1. symbol'] and found != True):\n",
    "            #print(x)\n",
    "            found = True\n",
    "            full_name = x['2. name']\n",
    "            break\n",
    "    if(found == False):\n",
    "        print('Check value entered')\n",
    "    \n",
    "    return found,full_name"
   ]
  },
  {
   "cell_type": "code",
   "execution_count": 207,
   "metadata": {},
   "outputs": [],
   "source": [
    "\"\"\"We received data in json format and converted it to a dictionary, \n",
    "    we can now parse it to get real time values \"\"\" \n",
    "def parse_stock_data(stock_response):\n",
    "    #print(\"printing response dict\"+str(stock_response['response_dict']))\n",
    "    \n",
    "    #print(\"stock price\" + stock_response['response_dict']['Global Quote'][0])\n",
    "    stock_price = stock_response['response_dict'][0]['Global Quote']['05. price']\n",
    "    value_changes_sign = increase_or_decrease(float(stock_response['response_dict'][0]['Global Quote']['09. change']))\n",
    "    value_changes = stock_response['response_dict'][0]['Global Quote']['09. change']\n",
    "    percentage_change_sign = increase_or_decrease(float(stock_response['response_dict'][0]['Global Quote']['10. change percent'].split('%')[0]))\n",
    "    percentage_change = stock_response['response_dict'][0]['Global Quote']['10. change percent']\n",
    "    full_name_company = stock_response['full_name']\n",
    "   \n",
    "  \n",
    "    data = {\n",
    "        \"stock_price\" : stock_price,\n",
    "        \"value_changes\" : value_changes,\n",
    "        \"value_changes_sign\" : value_changes_sign,\n",
    "        \"percentage_change\" : percentage_change,\n",
    "        \"percentage_change_sign\" : percentage_change_sign,\n",
    "        \"full_name_company\" : full_name_company\n",
    "    }\n",
    "    \n",
    "    return data"
   ]
  },
  {
   "cell_type": "code",
   "execution_count": 211,
   "metadata": {},
   "outputs": [],
   "source": [
    "def print_stock_data(data,symbol):\n",
    "    print('\\nOutput : ')\n",
    "    print(time)\n",
    "    print(data['full_name_company']+ ' ('+symbol+')')\n",
    "    print(data['stock_price']+data['value_changes_sign']+data['value_changes']\n",
    "         + data['percentage_change_sign']+data['percentage_change'])"
   ]
  },
  {
   "cell_type": "markdown",
   "metadata": {},
   "source": [
    "### Ask user to input"
   ]
  },
  {
   "cell_type": "code",
   "execution_count": 213,
   "metadata": {},
   "outputs": [
    {
     "name": "stdin",
     "output_type": "stream",
     "text": [
      "Enter A stock symbol or quit to exit:  quit\n"
     ]
    },
    {
     "name": "stdout",
     "output_type": "stream",
     "text": [
      "Thanks for using this calculator! See you soon!\n"
     ]
    }
   ],
   "source": [
    "while True:\n",
    "    symbol = input('Enter A stock symbol or quit to exit: ').upper()\n",
    "    if symbol == \"QUIT\":\n",
    "        print(\"Thanks for using this calculator! See you soon!\")\n",
    "        break\n",
    "    else:\n",
    "        stock_response = get_stock_data(symbol)\n",
    "        #print(stock_response)\n",
    "        if(stock_response == \"Symbol Not Found\" or stock_response == \"Connectivity Error Encountered!\"):\n",
    "            print(stock_response)\n",
    "            continue\n",
    "        data = parse_stock_data(stock_response)\n",
    "        print_stock_data(data,symbol)\n",
    "        print('\\n')"
   ]
  },
  {
   "cell_type": "code",
   "execution_count": null,
   "metadata": {},
   "outputs": [],
   "source": []
  }
 ],
 "metadata": {
  "kernelspec": {
   "display_name": "Python 3",
   "language": "python",
   "name": "python3"
  },
  "language_info": {
   "codemirror_mode": {
    "name": "ipython",
    "version": 3
   },
   "file_extension": ".py",
   "mimetype": "text/x-python",
   "name": "python",
   "nbconvert_exporter": "python",
   "pygments_lexer": "ipython3",
   "version": "3.6.7"
  }
 },
 "nbformat": 4,
 "nbformat_minor": 2
}
