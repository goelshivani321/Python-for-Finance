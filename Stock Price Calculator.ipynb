{
 "cells": [
  {
   "cell_type": "markdown",
   "metadata": {},
   "source": [
    "### Declaring variables"
   ]
  },
  {
   "cell_type": "code",
   "execution_count": 10,
   "metadata": {},
   "outputs": [
    {
     "name": "stdout",
     "output_type": "stream",
     "text": [
      "Enter A stock symbol: ADBE\n",
      "Enter Allotment (number of shares): 100\n",
      "Enter Final share price (in dollars): 110\n",
      "Enter Sell commission (in dollars): 15\n",
      "Enter Inital share price (in dollars): 25\n",
      "Enter Buy commission (in dollars): 10\n",
      "Enter Captial gain tax rate (in %): 15\n"
     ]
    }
   ],
   "source": [
    "symbol = input('Enter A stock symbol: ')\n",
    "allotment = int(input('Enter Allotment (number of shares): '))\n",
    "final_price = int(input('Enter Final share price (in dollars): '))\n",
    "sell_commission = int(input('Enter Sell commission (in dollars): '))\n",
    "init_price = int(input('Enter Inital share price (in dollars): '))\n",
    "buy_commission = int(input('Enter Buy commission (in dollars): '))\n",
    "tax_rate = int(input('Enter Captial gain tax rate (in %): '))"
   ]
  },
  {
   "cell_type": "markdown",
   "metadata": {},
   "source": [
    "### Stock Price Calculation"
   ]
  },
  {
   "cell_type": "code",
   "execution_count": 11,
   "metadata": {},
   "outputs": [],
   "source": [
    "proceeds = allotment * final_price\n",
    "tax = tax_rate / 100.00 * (allotment * (final_price - init_price) - sell_commission - buy_commission)\n",
    "cost = allotment * init_price + sell_commission + buy_commission + tax\n",
    "break_price = (buy_commission + sell_commission) / float(allotment) + init_price"
   ]
  },
  {
   "cell_type": "markdown",
   "metadata": {},
   "source": [
    "### Displaying profit report"
   ]
  },
  {
   "cell_type": "code",
   "execution_count": 13,
   "metadata": {
    "collapsed": true
   },
   "outputs": [],
   "source": [
    "total_purchase_price = allotment * init_price\n",
    "net_profit = proceeds - cost"
   ]
  },
  {
   "cell_type": "code",
   "execution_count": 14,
   "metadata": {},
   "outputs": [
    {
     "name": "stdout",
     "output_type": "stream",
     "text": [
      "PROFIT REPORT:\n",
      "Proceeds: $11,000\n",
      "Cost: $3,796.25\n",
      "Cost details:\n",
      "Total purchasee price: 2500\n",
      "Buy commission: 10\n",
      "Sell commission: 15\n",
      "Tax on Captial Gain: 15%  of $8,475 = 1,271.25\n",
      "Net Profit: $7,203.75\n",
      "Return on Investment: 189.76%\n",
      "To break even, you should have a final share price of: $25.25\n"
     ]
    }
   ],
   "source": [
    "print (\"PROFIT REPORT:\")\n",
    "print (\"Proceeds: ${:,}\".format(proceeds))\n",
    "print (\"Cost: ${:,}\".format(cost))\n",
    "print (\"Cost details:\")\n",
    "print (\"Total purchasee price:\", total_purchase_price)\n",
    "print (\"Buy commission:\", buy_commission)\n",
    "print (\"Sell commission:\", sell_commission)\n",
    "print (\"Tax on Captial Gain: {:,}%  of ${:,} = {:,}\".format(tax_rate, (allotment * (final_price - init_price) - sell_commission - buy_commission), tax))\n",
    "print (\"Net Profit: ${:,}\".format(net_profit))\n",
    "print (\"Return on Investment: {:.2%}\".format((net_profit) / cost))\n",
    "print (\"To break even, you should have a final share price of: ${:,}\".format(break_price))"
   ]
  },
  {
   "cell_type": "code",
   "execution_count": null,
   "metadata": {
    "collapsed": true
   },
   "outputs": [],
   "source": []
  }
 ],
 "metadata": {
  "kernelspec": {
   "display_name": "Python 3",
   "language": "python",
   "name": "python3"
  },
  "language_info": {
   "codemirror_mode": {
    "name": "ipython",
    "version": 3
   },
   "file_extension": ".py",
   "mimetype": "text/x-python",
   "name": "python",
   "nbconvert_exporter": "python",
   "pygments_lexer": "ipython3",
   "version": "3.6.7"
  }
 },
 "nbformat": 4,
 "nbformat_minor": 2
}
